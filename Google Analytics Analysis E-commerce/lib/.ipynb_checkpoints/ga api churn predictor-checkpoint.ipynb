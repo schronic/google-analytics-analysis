{
 "cells": [
  {
   "cell_type": "code",
   "execution_count": 1,
   "id": "d44a80e3",
   "metadata": {},
   "outputs": [],
   "source": [
    "\"\"\"Analytics Reporting API V4.\"\"\"\n",
    "import numpy as np\n",
    "\n",
    "import argparse\n",
    "from datetime import date, datetime\n",
    "\n",
    "from apiclient.discovery import build\n",
    "import httplib2\n",
    "from oauth2client import client\n",
    "from oauth2client import file\n",
    "from oauth2client import tools\n",
    "from tqdm import tqdm\n",
    "import pylab\n",
    "import matplotlib.pyplot as plt\n",
    "import pandas as pd\n",
    "\n",
    "import numpy as np\n",
    "\n",
    "\n",
    "DIMS = ['ga:clientId', 'ga:deviceCategory', 'ga:userType', 'ga:daysSinceLastSession', 'ga:date']\n",
    "METRICS = ['ga:hits', 'ga:avgSessionDuration', 'ga:pageviews', 'ga:uniquePageviews']\n",
    "\n",
    "START_DATE = \"2020-09-01\"\n",
    "END_DATE = \"2021-11-20\"\n",
    "N = 50 # TRESHOLD OF PAGEVIEWS - DEPENDENT ON TIMEFRAME\n",
    "\n",
    "SCOPES = ['https://www.googleapis.com/auth/analytics.readonly']\n",
    "CLIENT_SECRETS_PATH = '' # Path to client_secrets.json file.\n",
    "VIEW_ID = '' # PUT IN OWN GOOGLE ANALYTICS VIEW ID\n",
    "\n",
    "\n",
    "def initialize_analyticsreporting():\n",
    "    \"\"\"\n",
    "    Initializes the analyticsreporting service object.\n",
    "\n",
    "    Returns:\n",
    "    analytics an authorized analyticsreporting service object.\n",
    "    \"\"\"\n",
    "    # Parse command-line arguments.\n",
    "    parser = argparse.ArgumentParser(\n",
    "      formatter_class=argparse.RawDescriptionHelpFormatter,\n",
    "      parents=[tools.argparser])\n",
    "    flags = parser.parse_args([])\n",
    "\n",
    "    # Set up a Flow object to be used if we need to authenticate.\n",
    "    flow = client.flow_from_clientsecrets(\n",
    "      CLIENT_SECRETS_PATH, scope=SCOPES,\n",
    "      message=tools.message_if_missing(CLIENT_SECRETS_PATH))\n",
    "\n",
    "    # Prepare credentials, and authorize HTTP object with them.\n",
    "    # If the credentials don't exist or are invalid run through the native client\n",
    "    # flow. The Storage object will ensure that if successful the good\n",
    "    # credentials will get written back to a file.\n",
    "    storage = file.Storage('analyticsreporting.dat')\n",
    "    credentials = storage.get()\n",
    "    if credentials is None or credentials.invalid:\n",
    "        credentials = tools.run_flow(flow, storage, flags)\n",
    "    http = credentials.authorize(http=httplib2.Http())\n",
    "\n",
    "    # Build the service object.\n",
    "    analytics = build('analyticsreporting', 'v4', http=http)\n",
    "\n",
    "    return analytics\n",
    "\n",
    "def get_report(analytics, dims, metrics):\n",
    "  # Use the Analytics Service Object to query the Analytics Reporting API V4.\n",
    "    requests_list =  [{\n",
    "            'viewId': VIEW_ID,\n",
    "            'dateRanges': [{'startDate': START_DATE, 'endDate': END_DATE}],\n",
    "            'dimensions': [{'name': name} for name in dims],\n",
    "            'metrics': [{'expression': exp} for exp in metrics],\n",
    "        \"samplingLevel\": \"LARGE\",\n",
    "        \"pageSize\": 100000\n",
    "    }]\n",
    "    return analytics.reports().batchGet(body={'reportRequests':requests_list }).execute()\n",
    "\n",
    "def report_dataframe(response, dims, metrics):\n",
    "    data_dic = {f\"{i}\": [] for i in dims + metrics}\n",
    "    for report in response.get('reports', []):\n",
    "        rows = report.get('data', {}).get('rows', [])\n",
    "        for row in rows:\n",
    "            for i, key in enumerate(dims):\n",
    "                data_dic[key].append(row.get('dimensions', [])[i]) # Get dimensions\n",
    "            dateRangeValues = row.get('metrics', [])\n",
    "            for values in dateRangeValues:\n",
    "                all_values = values.get('values', []) # Get metric values\n",
    "                for i, key in enumerate(metrics):\n",
    "                    data_dic[key].append(all_values[i])\n",
    "\n",
    "    df = pd.DataFrame(data=data_dic)\n",
    "    df.columns = [col.split(':')[-1] for col in df.columns]\n",
    "    return df\n",
    "\n",
    "\n",
    "def report_clientid(analytics, user_ids):\n",
    "  # Use the Analytics Service Object to query the Analytics Reporting API V4.\n",
    "    report = []\n",
    "    \n",
    "    for user_id in tqdm(user_ids):\n",
    "        try: \n",
    "            data = analytics.userActivity().search(body={\n",
    "              \"viewId\": VIEW_ID,\n",
    "              \"dateRange\": {\n",
    "                 \"startDate\": START_DATE,\n",
    "                 \"endDate\": END_DATE\n",
    "              },\n",
    "               \"user\": {\n",
    "                 \"type\": \"CLIENT_ID\",\n",
    "                 \"userId\": user_id\n",
    "              }\n",
    "            }).execute()\n",
    "        except: \n",
    "            data = {}\n",
    "        \n",
    "        report.append(data)\n",
    "        \n",
    "    return report\n"
   ]
  },
  {
   "cell_type": "code",
   "execution_count": 3,
   "id": "01896811",
   "metadata": {},
   "outputs": [],
   "source": [
    "def event_to_df(df, value):\n",
    "    for k, v in value.items():\n",
    "        df[k] = v\n",
    "    \n",
    "\n",
    "def report_dataframe_sessions(response):\n",
    "    # One list per user. Each item of which containing a list of sessions. Each session containing a list of activities.\n",
    "    l = []\n",
    "    for user in response: \n",
    "        for session in user['sessions']: \n",
    "            session_keys = list(session.keys())\n",
    "            session_keys.remove('activities')\n",
    "\n",
    "            dic = { key: session[key] for key in session_keys }\n",
    "            \n",
    "            try: \n",
    "                dic['user_id'] = session['activities'][0]['customDimension'][17]['value']\n",
    "            except: \n",
    "                pass\n",
    "\n",
    "            l.append(dic)\n",
    "    \n",
    "    df = pd.DataFrame(l)\n",
    "    return df\n",
    "        \n",
    "\n",
    "def report_dataframe_activities(response):\n",
    "    # One list per user. Each item of which containing a list of sessions. Each session containing a list of activities.\n",
    "    l = []\n",
    "    for user in response: \n",
    "        for session in user['sessions']: \n",
    "            session_id = session['sessionId']\n",
    "            for activity in session['activities']:\n",
    "                dic = {}\n",
    "                                \n",
    "                activity_keys = list(activity.keys())\n",
    "                \n",
    "                if 'customDimension' in activity_keys:\n",
    "                    for i in activity['customDimension']:\n",
    "                        if 'value' in i.keys():\n",
    "                            dic[i['index']] = i['value']\n",
    "                            \n",
    "                if 18 in dic.keys():       \n",
    "                    dic['user_id'] = dic.pop(18)\n",
    "                            \n",
    "                activity_keys.remove('customDimension')\n",
    "\n",
    "                for key in activity_keys:\n",
    "                    dic[key] = activity[key] \n",
    "            \n",
    "                dic['session_id'] = session_id\n",
    "                l.append(dic)\n",
    "    df = pd.DataFrame(l)\n",
    "        \n",
    "    return df\n",
    "            "
   ]
  },
  {
   "cell_type": "markdown",
   "id": "7bcdd93c",
   "metadata": {},
   "source": [
    "# Calling functions"
   ]
  },
  {
   "cell_type": "code",
   "execution_count": 4,
   "id": "6cf834a7",
   "metadata": {},
   "outputs": [],
   "source": [
    "# Documentation on google analytics dimensions and metrices\n",
    "# https://ga-dev-tools.web.app/dimensions-metrics-explorer/\n",
    "\n",
    "analytics = initialize_analyticsreporting()\n",
    "DIMS = ['ga:clientId', 'ga:deviceCategory', 'ga:userType', 'ga:daysSinceLastSession', 'ga:date', 'ga:country', 'ga:dimension18']\n",
    "METRICS = ['ga:hits', 'ga:avgSessionDuration', 'ga:pageviews', 'ga:uniquePageviews']\n",
    "\n",
    "response_users = get_report(analytics, DIMS, METRICS)"
   ]
  },
  {
   "cell_type": "markdown",
   "id": "eec070ac",
   "metadata": {},
   "source": [
    "## Users"
   ]
  },
  {
   "cell_type": "code",
   "execution_count": 5,
   "id": "b55d72bd",
   "metadata": {},
   "outputs": [],
   "source": [
    "users = report_dataframe(response_users, DIMS, METRICS)\n",
    "\n",
    "users = users.loc[users.dimension18 != 'NA']"
   ]
  },
  {
   "cell_type": "code",
   "execution_count": 6,
   "id": "14fffaa9",
   "metadata": {},
   "outputs": [
    {
     "data": {
      "text/plain": [
       "count    1964.000000\n",
       "mean        2.050407\n",
       "std         4.881583\n",
       "min         1.000000\n",
       "25%         1.000000\n",
       "50%         1.000000\n",
       "75%         2.000000\n",
       "max       122.000000\n",
       "Name: clientId, dtype: float64"
      ]
     },
     "execution_count": 6,
     "metadata": {},
     "output_type": "execute_result"
    }
   ],
   "source": [
    "users.clientId.value_counts().describe()"
   ]
  },
  {
   "cell_type": "code",
   "execution_count": 7,
   "id": "c18f0ea0",
   "metadata": {},
   "outputs": [
    {
     "data": {
      "image/png": "[encoded data removed]",
      "text/plain": [
       "<Figure size 432x288 with 1 Axes>"
      ]
     },
     "metadata": {
      "needs_background": "light"
     },
     "output_type": "display_data"
    }
   ],
   "source": [
    "a = users.clientId.value_counts().value_counts()\n",
    "fig,ax = plt.subplots(1)\n",
    "ax = a.plot(kind='bar')\n",
    "\n",
    "\n",
    "plt.yscale('log')\n",
    "plt.show()"
   ]
  },
  {
   "cell_type": "markdown",
   "id": "7026940e",
   "metadata": {},
   "source": [
    "# Target Feature Engineering"
   ]
  },
  {
   "cell_type": "markdown",
   "id": "fb602e19",
   "metadata": {},
   "source": [
    "1. Check distribution only for users with more than one visits\n",
    "2. \n",
    "\n",
    " suprsingly much cross device usage\n",
    "\n",
    " before this is valuable i should probably remove outliers and e.g. company visits\n",
    "\n",
    " count not the delta between today and latest but new and first return \n",
    "\n",
    " disregard those who only came once competely \n",
    "\n",
    " all else only those are not churned whose last visit was less than threshold ago \n",
    " set thresshold those those where zscore less than 3 stds away"
   ]
  },
  {
   "cell_type": "code",
   "execution_count": 42,
   "id": "c8570437",
   "metadata": {},
   "outputs": [],
   "source": [
    "users_churn = users.copy()\n",
    "\n",
    "# Only select those that have visited more than once\n",
    "df_group = users_churn.groupby('dimension18').count()['date']\n",
    "returning_users = df_group[df_group > 1].index\n",
    "\n",
    "users_churn = users_churn.loc[users_churn['dimension18'].isin(returning_users)]\n"
   ]
  },
  {
   "cell_type": "code",
   "execution_count": 43,
   "id": "04edb862",
   "metadata": {},
   "outputs": [],
   "source": [
    "users_churn['date'] = pd.to_datetime(users_churn['date'], format='%Y%m%d')\n",
    "\n",
    "today = datetime.now()\n",
    "\n",
    "users_churn = users_churn.append(users_churn.drop_duplicates(\"dimension18\").assign(date=today), ignore_index=True)"
   ]
  },
  {
   "cell_type": "code",
   "execution_count": 44,
   "id": "2a8bcbd4",
   "metadata": {},
   "outputs": [],
   "source": [
    "\n",
    "users_churn['delta'] = np.nan\n",
    "users_churn['latestvisit'] = 0\n",
    "\n",
    "\n",
    "for i in np.unique(users_churn.dimension18.values): \n",
    "    df1 = users_churn.loc[users_churn.dimension18 == i]  \n",
    "    df1 = df1.sort_values('date', ascending=False)\n",
    "    \n",
    "    for x in range(1, df1.shape[0]):\n",
    "        delta = df1.iloc[x-1]['date'] - df1.iloc[x]['date']\n",
    "        \n",
    "        users_churn.loc[users_churn.index == df1.index[x], 'delta'] = delta.days \n",
    "    \n",
    "    users_churn.loc[users_churn.index == df1.index[1], 'latestvisit'] = 1\n"
   ]
  },
  {
   "cell_type": "code",
   "execution_count": 45,
   "id": "05c45750",
   "metadata": {},
   "outputs": [],
   "source": [
    "# what is realistic as a return rate? is it not specific campaigns/ event users come on the page for?"
   ]
  },
  {
   "cell_type": "code",
   "execution_count": 46,
   "id": "fa98e476",
   "metadata": {},
   "outputs": [],
   "source": [
    "users_churn = users_churn.loc[users_churn.date != today]"
   ]
  },
  {
   "cell_type": "code",
   "execution_count": 47,
   "id": "b466bf2b",
   "metadata": {},
   "outputs": [
    {
     "data": {
      "text/html": [
       "<div>\n",
       "<style scoped>\n",
       "    .dataframe tbody tr th:only-of-type {\n",
       "        vertical-align: middle;\n",
       "    }\n",
       "\n",
       "    .dataframe tbody tr th {\n",
       "        vertical-align: top;\n",
       "    }\n",
       "\n",
       "    .dataframe thead th {\n",
       "        text-align: right;\n",
       "    }\n",
       "</style>\n",
       "<table border=\"1\" class=\"dataframe\">\n",
       "  <thead>\n",
       "    <tr style=\"text-align: right;\">\n",
       "      <th></th>\n",
       "      <th>clientId</th>\n",
       "      <th>deviceCategory</th>\n",
       "      <th>userType</th>\n",
       "      <th>daysSinceLastSession</th>\n",
       "      <th>date</th>\n",
       "      <th>country</th>\n",
       "      <th>dimension18</th>\n",
       "      <th>hits</th>\n",
       "      <th>avgSessionDuration</th>\n",
       "      <th>pageviews</th>\n",
       "      <th>uniquePageviews</th>\n",
       "      <th>delta</th>\n",
       "      <th>latestvisit</th>\n",
       "    </tr>\n",
       "  </thead>\n",
       "  <tbody>\n",
       "    <tr>\n",
       "      <th>663</th>\n",
       "      <td>1448282143.1632579362</td>\n",
       "      <td>desktop</td>\n",
       "      <td>Returning Visitor</td>\n",
       "      <td>17</td>\n",
       "      <td>2021-10-12</td>\n",
       "      <td>Portugal</td>\n",
       "      <td>ff955543-d116-421b-8def-c89410972bb2</td>\n",
       "      <td>9</td>\n",
       "      <td>15.0</td>\n",
       "      <td>3</td>\n",
       "      <td>2</td>\n",
       "      <td>99.0</td>\n",
       "      <td>1</td>\n",
       "    </tr>\n",
       "    <tr>\n",
       "      <th>662</th>\n",
       "      <td>1448282143.1632579362</td>\n",
       "      <td>desktop</td>\n",
       "      <td>New Visitor</td>\n",
       "      <td>0</td>\n",
       "      <td>2021-09-25</td>\n",
       "      <td>Portugal</td>\n",
       "      <td>ff955543-d116-421b-8def-c89410972bb2</td>\n",
       "      <td>55</td>\n",
       "      <td>301.0</td>\n",
       "      <td>13</td>\n",
       "      <td>9</td>\n",
       "      <td>17.0</td>\n",
       "      <td>0</td>\n",
       "    </tr>\n",
       "    <tr>\n",
       "      <th>611</th>\n",
       "      <td>1415497150.1632410476</td>\n",
       "      <td>desktop</td>\n",
       "      <td>New Visitor</td>\n",
       "      <td>0</td>\n",
       "      <td>2021-09-23</td>\n",
       "      <td>Portugal</td>\n",
       "      <td>ff674cb8-d49e-45de-8eb4-c45ac6bcad2b</td>\n",
       "      <td>4</td>\n",
       "      <td>57.0</td>\n",
       "      <td>2</td>\n",
       "      <td>1</td>\n",
       "      <td>118.0</td>\n",
       "      <td>1</td>\n",
       "    </tr>\n",
       "  </tbody>\n",
       "</table>\n",
       "</div>"
      ],
      "text/plain": [
       "                  clientId deviceCategory           userType  \\\n",
       "663  1448282143.1632579362        desktop  Returning Visitor   \n",
       "662  1448282143.1632579362        desktop        New Visitor   \n",
       "611  1415497150.1632410476        desktop        New Visitor   \n",
       "\n",
       "    daysSinceLastSession       date   country  \\\n",
       "663                   17 2021-10-12  Portugal   \n",
       "662                    0 2021-09-25  Portugal   \n",
       "611                    0 2021-09-23  Portugal   \n",
       "\n",
       "                              dimension18 hits avgSessionDuration pageviews  \\\n",
       "663  ff955543-d116-421b-8def-c89410972bb2    9               15.0         3   \n",
       "662  ff955543-d116-421b-8def-c89410972bb2   55              301.0        13   \n",
       "611  ff674cb8-d49e-45de-8eb4-c45ac6bcad2b    4               57.0         2   \n",
       "\n",
       "    uniquePageviews  delta  latestvisit  \n",
       "663               2   99.0            1  \n",
       "662               9   17.0            0  \n",
       "611               1  118.0            1  "
      ]
     },
     "execution_count": 47,
     "metadata": {},
     "output_type": "execute_result"
    }
   ],
   "source": [
    "users_churn.sort_values(['dimension18', 'date'], ascending=False).head(3)"
   ]
  },
  {
   "cell_type": "code",
   "execution_count": 48,
   "id": "878b6e51",
   "metadata": {},
   "outputs": [],
   "source": [
    "users_churn_returning = users_churn.loc[users_churn.latestvisit == 0]\n",
    "returned_users_delta = users_churn_returning['delta']"
   ]
  },
  {
   "cell_type": "code",
   "execution_count": 49,
   "id": "5458c648",
   "metadata": {},
   "outputs": [],
   "source": [
    "n = returned_users_delta.value_counts().sort_index()"
   ]
  },
  {
   "cell_type": "code",
   "execution_count": 50,
   "id": "422a4fc5",
   "metadata": {},
   "outputs": [
    {
     "data": {
      "image/png": "[encoded data removed]",
      "text/plain": [
       "<Figure size 1440x504 with 1 Axes>"
      ]
     },
     "metadata": {
      "needs_background": "light"
     },
     "output_type": "display_data"
    }
   ],
   "source": [
    "fig, ax = plt.subplots(1)\n",
    "ax = n.plot(kind='bar')\n",
    "\n",
    "fig.set_figwidth(20)\n",
    "fig.set_figheight(7)\n",
    "\n",
    "plt.yscale('log')\n",
    "plt.show()"
   ]
  },
  {
   "cell_type": "code",
   "execution_count": 51,
   "id": "9e92ec7f",
   "metadata": {},
   "outputs": [
    {
     "data": {
      "text/plain": [
       "count    2622.000000\n",
       "mean        6.686499\n",
       "std        17.753004\n",
       "min         0.000000\n",
       "25%         0.000000\n",
       "50%         1.000000\n",
       "75%         5.000000\n",
       "max       165.000000\n",
       "Name: delta, dtype: float64"
      ]
     },
     "execution_count": 51,
     "metadata": {},
     "output_type": "execute_result"
    }
   ],
   "source": [
    "returned_users_delta.describe()"
   ]
  },
  {
   "cell_type": "code",
   "execution_count": 52,
   "id": "06442e43",
   "metadata": {},
   "outputs": [
    {
     "data": {
      "image/png": "[encoded data removed]",
      "text/plain": [
       "<Figure size 432x288 with 1 Axes>"
      ]
     },
     "metadata": {
      "needs_background": "light"
     },
     "output_type": "display_data"
    }
   ],
   "source": [
    "import numpy as np\n",
    "import matplotlib.pyplot as plt\n",
    "\n",
    "delta_describe = returned_users_delta.describe()\n",
    "\n",
    "mean = delta_describe['mean']\n",
    "std = delta_describe['std']\n",
    "variance = delta_describe['std']**2\n",
    "\n",
    "x = np.arange(mean-0.1, mean+0.11,.001)\n",
    "\n",
    "f = np.exp(-np.square(x-mean)/2*variance)/(np.sqrt(2*np.pi*variance))\n",
    "\n",
    "plt.plot(x,f)\n",
    "plt.show()"
   ]
  },
  {
   "cell_type": "code",
   "execution_count": 53,
   "id": "1dc360cb",
   "metadata": {},
   "outputs": [],
   "source": [
    "users_churn['zscore'] = np.abs((users_churn.delta - returned_users_delta.mean())/returned_users_delta.std(ddof=0))"
   ]
  },
  {
   "cell_type": "code",
   "execution_count": 54,
   "id": "4ccb37d9",
   "metadata": {},
   "outputs": [],
   "source": [
    "users_churn.loc[:, 'churned'] = 0\n",
    "users_churn.loc[users_churn.zscore > 3, 'churned'] = 1 "
   ]
  },
  {
   "cell_type": "code",
   "execution_count": 56,
   "id": "9b1967c9",
   "metadata": {},
   "outputs": [],
   "source": [
    "one_hot = pd.get_dummies(users_churn['deviceCategory'])\n",
    "users_churn = users_churn.drop('deviceCategory', axis = 1)\n",
    "# Join the encoded df\n",
    "users_churn = users_churn.join(one_hot)"
   ]
  },
  {
   "cell_type": "code",
   "execution_count": 57,
   "id": "509a5860",
   "metadata": {},
   "outputs": [
    {
     "data": {
      "text/html": [
       "<div>\n",
       "<style scoped>\n",
       "    .dataframe tbody tr th:only-of-type {\n",
       "        vertical-align: middle;\n",
       "    }\n",
       "\n",
       "    .dataframe tbody tr th {\n",
       "        vertical-align: top;\n",
       "    }\n",
       "\n",
       "    .dataframe thead th {\n",
       "        text-align: right;\n",
       "    }\n",
       "</style>\n",
       "<table border=\"1\" class=\"dataframe\">\n",
       "  <thead>\n",
       "    <tr style=\"text-align: right;\">\n",
       "      <th></th>\n",
       "      <th>clientId</th>\n",
       "      <th>userType</th>\n",
       "      <th>daysSinceLastSession</th>\n",
       "      <th>date</th>\n",
       "      <th>country</th>\n",
       "      <th>dimension18</th>\n",
       "      <th>hits</th>\n",
       "      <th>avgSessionDuration</th>\n",
       "      <th>pageviews</th>\n",
       "      <th>uniquePageviews</th>\n",
       "      <th>delta</th>\n",
       "      <th>latestvisit</th>\n",
       "      <th>zscore</th>\n",
       "      <th>churned</th>\n",
       "      <th>desktop</th>\n",
       "      <th>mobile</th>\n",
       "      <th>tablet</th>\n",
       "    </tr>\n",
       "  </thead>\n",
       "  <tbody>\n",
       "    <tr>\n",
       "      <th>0</th>\n",
       "      <td>1002323379.1637347255</td>\n",
       "      <td>New Visitor</td>\n",
       "      <td>0</td>\n",
       "      <td>2021-11-19</td>\n",
       "      <td>Portugal</td>\n",
       "      <td>2549eb51-7da7-41c5-aff7-632ad3b8b7d0</td>\n",
       "      <td>5</td>\n",
       "      <td>2.0</td>\n",
       "      <td>1</td>\n",
       "      <td>1</td>\n",
       "      <td>61.0</td>\n",
       "      <td>1</td>\n",
       "      <td>3.059981</td>\n",
       "      <td>1</td>\n",
       "      <td>1</td>\n",
       "      <td>0</td>\n",
       "      <td>0</td>\n",
       "    </tr>\n",
       "    <tr>\n",
       "      <th>1</th>\n",
       "      <td>1002449273.1633032386</td>\n",
       "      <td>New Visitor</td>\n",
       "      <td>0</td>\n",
       "      <td>2021-09-30</td>\n",
       "      <td>Portugal</td>\n",
       "      <td>8d90e2e4-cc5e-47a7-b889-cd7046fd841b</td>\n",
       "      <td>11</td>\n",
       "      <td>49.0</td>\n",
       "      <td>2</td>\n",
       "      <td>2</td>\n",
       "      <td>111.0</td>\n",
       "      <td>1</td>\n",
       "      <td>5.876944</td>\n",
       "      <td>1</td>\n",
       "      <td>1</td>\n",
       "      <td>0</td>\n",
       "      <td>0</td>\n",
       "    </tr>\n",
       "    <tr>\n",
       "      <th>2</th>\n",
       "      <td>1003090648.1634053655</td>\n",
       "      <td>New Visitor</td>\n",
       "      <td>0</td>\n",
       "      <td>2021-10-12</td>\n",
       "      <td>Portugal</td>\n",
       "      <td>b61dfc1c-9312-4640-b85c-a85f1532a3f4</td>\n",
       "      <td>32</td>\n",
       "      <td>58.0</td>\n",
       "      <td>10</td>\n",
       "      <td>7</td>\n",
       "      <td>99.0</td>\n",
       "      <td>1</td>\n",
       "      <td>5.200873</td>\n",
       "      <td>1</td>\n",
       "      <td>1</td>\n",
       "      <td>0</td>\n",
       "      <td>0</td>\n",
       "    </tr>\n",
       "    <tr>\n",
       "      <th>3</th>\n",
       "      <td>1004044871.1632330453</td>\n",
       "      <td>New Visitor</td>\n",
       "      <td>0</td>\n",
       "      <td>2021-09-22</td>\n",
       "      <td>Portugal</td>\n",
       "      <td>c7d9560c-44cf-448a-9825-c63ad247dbb1</td>\n",
       "      <td>4</td>\n",
       "      <td>2.0</td>\n",
       "      <td>2</td>\n",
       "      <td>1</td>\n",
       "      <td>1.0</td>\n",
       "      <td>0</td>\n",
       "      <td>0.320373</td>\n",
       "      <td>0</td>\n",
       "      <td>1</td>\n",
       "      <td>0</td>\n",
       "      <td>0</td>\n",
       "    </tr>\n",
       "    <tr>\n",
       "      <th>4</th>\n",
       "      <td>1004044871.1632330453</td>\n",
       "      <td>Returning Visitor</td>\n",
       "      <td>0</td>\n",
       "      <td>2021-09-23</td>\n",
       "      <td>Portugal</td>\n",
       "      <td>c7d9560c-44cf-448a-9825-c63ad247dbb1</td>\n",
       "      <td>12</td>\n",
       "      <td>38.0</td>\n",
       "      <td>4</td>\n",
       "      <td>1</td>\n",
       "      <td>3.0</td>\n",
       "      <td>0</td>\n",
       "      <td>0.207695</td>\n",
       "      <td>0</td>\n",
       "      <td>1</td>\n",
       "      <td>0</td>\n",
       "      <td>0</td>\n",
       "    </tr>\n",
       "    <tr>\n",
       "      <th>...</th>\n",
       "      <td>...</td>\n",
       "      <td>...</td>\n",
       "      <td>...</td>\n",
       "      <td>...</td>\n",
       "      <td>...</td>\n",
       "      <td>...</td>\n",
       "      <td>...</td>\n",
       "      <td>...</td>\n",
       "      <td>...</td>\n",
       "      <td>...</td>\n",
       "      <td>...</td>\n",
       "      <td>...</td>\n",
       "      <td>...</td>\n",
       "      <td>...</td>\n",
       "      <td>...</td>\n",
       "      <td>...</td>\n",
       "      <td>...</td>\n",
       "    </tr>\n",
       "    <tr>\n",
       "      <th>3191</th>\n",
       "      <td>996759343.1632497299</td>\n",
       "      <td>Returning Visitor</td>\n",
       "      <td>0</td>\n",
       "      <td>2021-09-24</td>\n",
       "      <td>Portugal</td>\n",
       "      <td>03e2a594-da73-4773-9914-2e0b4888ec03</td>\n",
       "      <td>5</td>\n",
       "      <td>0.0</td>\n",
       "      <td>1</td>\n",
       "      <td>1</td>\n",
       "      <td>0.0</td>\n",
       "      <td>0</td>\n",
       "      <td>0.376712</td>\n",
       "      <td>0</td>\n",
       "      <td>0</td>\n",
       "      <td>1</td>\n",
       "      <td>0</td>\n",
       "    </tr>\n",
       "    <tr>\n",
       "      <th>3192</th>\n",
       "      <td>996759343.1632497299</td>\n",
       "      <td>Returning Visitor</td>\n",
       "      <td>0</td>\n",
       "      <td>2021-09-29</td>\n",
       "      <td>Portugal</td>\n",
       "      <td>03e2a594-da73-4773-9914-2e0b4888ec03</td>\n",
       "      <td>6</td>\n",
       "      <td>0.0</td>\n",
       "      <td>1</td>\n",
       "      <td>1</td>\n",
       "      <td>112.0</td>\n",
       "      <td>1</td>\n",
       "      <td>5.933283</td>\n",
       "      <td>1</td>\n",
       "      <td>0</td>\n",
       "      <td>1</td>\n",
       "      <td>0</td>\n",
       "    </tr>\n",
       "    <tr>\n",
       "      <th>3193</th>\n",
       "      <td>996759343.1632497299</td>\n",
       "      <td>Returning Visitor</td>\n",
       "      <td>4</td>\n",
       "      <td>2021-09-29</td>\n",
       "      <td>Portugal</td>\n",
       "      <td>03e2a594-da73-4773-9914-2e0b4888ec03</td>\n",
       "      <td>14</td>\n",
       "      <td>53.0</td>\n",
       "      <td>3</td>\n",
       "      <td>1</td>\n",
       "      <td>0.0</td>\n",
       "      <td>0</td>\n",
       "      <td>0.376712</td>\n",
       "      <td>0</td>\n",
       "      <td>0</td>\n",
       "      <td>1</td>\n",
       "      <td>0</td>\n",
       "    </tr>\n",
       "    <tr>\n",
       "      <th>3194</th>\n",
       "      <td>996760816.1636064055</td>\n",
       "      <td>Returning Visitor</td>\n",
       "      <td>0</td>\n",
       "      <td>2021-11-04</td>\n",
       "      <td>Portugal</td>\n",
       "      <td>bba25220-d840-4897-a7b1-71e4b3ebe38a</td>\n",
       "      <td>5</td>\n",
       "      <td>5.0</td>\n",
       "      <td>1</td>\n",
       "      <td>1</td>\n",
       "      <td>76.0</td>\n",
       "      <td>1</td>\n",
       "      <td>3.905070</td>\n",
       "      <td>1</td>\n",
       "      <td>1</td>\n",
       "      <td>0</td>\n",
       "      <td>0</td>\n",
       "    </tr>\n",
       "    <tr>\n",
       "      <th>3195</th>\n",
       "      <td>997029299.1633033597</td>\n",
       "      <td>New Visitor</td>\n",
       "      <td>0</td>\n",
       "      <td>2021-09-30</td>\n",
       "      <td>Portugal</td>\n",
       "      <td>10163e80-8ecd-4ef2-9239-3286a08e9ab4</td>\n",
       "      <td>18</td>\n",
       "      <td>992.0</td>\n",
       "      <td>3</td>\n",
       "      <td>2</td>\n",
       "      <td>111.0</td>\n",
       "      <td>1</td>\n",
       "      <td>5.876944</td>\n",
       "      <td>1</td>\n",
       "      <td>1</td>\n",
       "      <td>0</td>\n",
       "      <td>0</td>\n",
       "    </tr>\n",
       "  </tbody>\n",
       "</table>\n",
       "<p>3196 rows × 17 columns</p>\n",
       "</div>"
      ],
      "text/plain": [
       "                   clientId           userType daysSinceLastSession  \\\n",
       "0     1002323379.1637347255        New Visitor                    0   \n",
       "1     1002449273.1633032386        New Visitor                    0   \n",
       "2     1003090648.1634053655        New Visitor                    0   \n",
       "3     1004044871.1632330453        New Visitor                    0   \n",
       "4     1004044871.1632330453  Returning Visitor                    0   \n",
       "...                     ...                ...                  ...   \n",
       "3191   996759343.1632497299  Returning Visitor                    0   \n",
       "3192   996759343.1632497299  Returning Visitor                    0   \n",
       "3193   996759343.1632497299  Returning Visitor                    4   \n",
       "3194   996760816.1636064055  Returning Visitor                    0   \n",
       "3195   997029299.1633033597        New Visitor                    0   \n",
       "\n",
       "           date   country                           dimension18 hits  \\\n",
       "0    2021-11-19  Portugal  2549eb51-7da7-41c5-aff7-632ad3b8b7d0    5   \n",
       "1    2021-09-30  Portugal  8d90e2e4-cc5e-47a7-b889-cd7046fd841b   11   \n",
       "2    2021-10-12  Portugal  b61dfc1c-9312-4640-b85c-a85f1532a3f4   32   \n",
       "3    2021-09-22  Portugal  c7d9560c-44cf-448a-9825-c63ad247dbb1    4   \n",
       "4    2021-09-23  Portugal  c7d9560c-44cf-448a-9825-c63ad247dbb1   12   \n",
       "...         ...       ...                                   ...  ...   \n",
       "3191 2021-09-24  Portugal  03e2a594-da73-4773-9914-2e0b4888ec03    5   \n",
       "3192 2021-09-29  Portugal  03e2a594-da73-4773-9914-2e0b4888ec03    6   \n",
       "3193 2021-09-29  Portugal  03e2a594-da73-4773-9914-2e0b4888ec03   14   \n",
       "3194 2021-11-04  Portugal  bba25220-d840-4897-a7b1-71e4b3ebe38a    5   \n",
       "3195 2021-09-30  Portugal  10163e80-8ecd-4ef2-9239-3286a08e9ab4   18   \n",
       "\n",
       "     avgSessionDuration pageviews uniquePageviews  delta  latestvisit  \\\n",
       "0                   2.0         1               1   61.0            1   \n",
       "1                  49.0         2               2  111.0            1   \n",
       "2                  58.0        10               7   99.0            1   \n",
       "3                   2.0         2               1    1.0            0   \n",
       "4                  38.0         4               1    3.0            0   \n",
       "...                 ...       ...             ...    ...          ...   \n",
       "3191                0.0         1               1    0.0            0   \n",
       "3192                0.0         1               1  112.0            1   \n",
       "3193               53.0         3               1    0.0            0   \n",
       "3194                5.0         1               1   76.0            1   \n",
       "3195              992.0         3               2  111.0            1   \n",
       "\n",
       "        zscore  churned  desktop  mobile  tablet  \n",
       "0     3.059981        1        1       0       0  \n",
       "1     5.876944        1        1       0       0  \n",
       "2     5.200873        1        1       0       0  \n",
       "3     0.320373        0        1       0       0  \n",
       "4     0.207695        0        1       0       0  \n",
       "...        ...      ...      ...     ...     ...  \n",
       "3191  0.376712        0        0       1       0  \n",
       "3192  5.933283        1        0       1       0  \n",
       "3193  0.376712        0        0       1       0  \n",
       "3194  3.905070        1        1       0       0  \n",
       "3195  5.876944        1        1       0       0  \n",
       "\n",
       "[3196 rows x 17 columns]"
      ]
     },
     "execution_count": 57,
     "metadata": {},
     "output_type": "execute_result"
    }
   ],
   "source": [
    "users_churn.head(3)"
   ]
  },
  {
   "cell_type": "code",
   "execution_count": 59,
   "id": "e9c57f2d",
   "metadata": {},
   "outputs": [
    {
     "data": {
      "text/plain": [
       "\"filtered_users = filtered_users.groupby('dimension18').agg({\\n    'sessions': 'sum',\\n    'avgSessionDuration': 'mean',\\n    'hits': 'mean',\\n    'pageviews': 'mean',\\n    'uniquePageviews': 'mean'  \\n})\\n\""
      ]
     },
     "execution_count": 59,
     "metadata": {},
     "output_type": "execute_result"
    }
   ],
   "source": [
    "from scipy import stats\n",
    "\n",
    "users_churn = users_churn.drop(columns=['clientId', 'delta', 'zscore', 'userType', 'daysSinceLastSession', 'country'])\n",
    "\n",
    "cols = ['hits', 'avgSessionDuration', 'pageviews', 'uniquePageviews']\n",
    "users_churn.loc[:, cols] = users_churn[cols].apply(pd.to_numeric, errors='coerce')\n",
    "\n",
    "users_churn.loc[:, cols] = users_churn[cols][(np.abs(stats.zscore(users_churn[cols])) < 3).all(axis=1)]\n",
    "\n",
    "users_churn.loc[:, 'sessions'] = 1"
   ]
  },
  {
   "cell_type": "code",
   "execution_count": 60,
   "id": "059005a2",
   "metadata": {},
   "outputs": [
    {
     "data": {
      "text/html": [
       "<div>\n",
       "<style scoped>\n",
       "    .dataframe tbody tr th:only-of-type {\n",
       "        vertical-align: middle;\n",
       "    }\n",
       "\n",
       "    .dataframe tbody tr th {\n",
       "        vertical-align: top;\n",
       "    }\n",
       "\n",
       "    .dataframe thead th {\n",
       "        text-align: right;\n",
       "    }\n",
       "</style>\n",
       "<table border=\"1\" class=\"dataframe\">\n",
       "  <thead>\n",
       "    <tr style=\"text-align: right;\">\n",
       "      <th></th>\n",
       "      <th>date</th>\n",
       "      <th>dimension18</th>\n",
       "      <th>hits</th>\n",
       "      <th>avgSessionDuration</th>\n",
       "      <th>pageviews</th>\n",
       "      <th>uniquePageviews</th>\n",
       "      <th>latestvisit</th>\n",
       "      <th>churned</th>\n",
       "      <th>desktop</th>\n",
       "      <th>mobile</th>\n",
       "      <th>tablet</th>\n",
       "      <th>sessions</th>\n",
       "    </tr>\n",
       "  </thead>\n",
       "  <tbody>\n",
       "    <tr>\n",
       "      <th>0</th>\n",
       "      <td>2021-11-19</td>\n",
       "      <td>2549eb51-7da7-41c5-aff7-632ad3b8b7d0</td>\n",
       "      <td>5.0</td>\n",
       "      <td>2.0</td>\n",
       "      <td>1.0</td>\n",
       "      <td>1.0</td>\n",
       "      <td>1</td>\n",
       "      <td>1</td>\n",
       "      <td>1</td>\n",
       "      <td>0</td>\n",
       "      <td>0</td>\n",
       "      <td>1</td>\n",
       "    </tr>\n",
       "    <tr>\n",
       "      <th>1</th>\n",
       "      <td>2021-09-30</td>\n",
       "      <td>8d90e2e4-cc5e-47a7-b889-cd7046fd841b</td>\n",
       "      <td>11.0</td>\n",
       "      <td>49.0</td>\n",
       "      <td>2.0</td>\n",
       "      <td>2.0</td>\n",
       "      <td>1</td>\n",
       "      <td>1</td>\n",
       "      <td>1</td>\n",
       "      <td>0</td>\n",
       "      <td>0</td>\n",
       "      <td>1</td>\n",
       "    </tr>\n",
       "  </tbody>\n",
       "</table>\n",
       "</div>"
      ],
      "text/plain": [
       "        date                           dimension18  hits  avgSessionDuration  \\\n",
       "0 2021-11-19  2549eb51-7da7-41c5-aff7-632ad3b8b7d0   5.0                 2.0   \n",
       "1 2021-09-30  8d90e2e4-cc5e-47a7-b889-cd7046fd841b  11.0                49.0   \n",
       "\n",
       "   pageviews  uniquePageviews  latestvisit  churned  desktop  mobile  tablet  \\\n",
       "0        1.0              1.0            1        1        1       0       0   \n",
       "1        2.0              2.0            1        1        1       0       0   \n",
       "\n",
       "   sessions  \n",
       "0         1  \n",
       "1         1  "
      ]
     },
     "execution_count": 60,
     "metadata": {},
     "output_type": "execute_result"
    }
   ],
   "source": [
    "users_churn.head(2)"
   ]
  },
  {
   "cell_type": "code",
   "execution_count": 61,
   "id": "0455717b",
   "metadata": {},
   "outputs": [],
   "source": [
    "l = []\n",
    "\n",
    "for i in np.unique(users_churn.dimension18.values): \n",
    "    dic = {}\n",
    "\n",
    "    df1 = users_churn.loc[users_churn.dimension18 == i]  \n",
    "    df1 = df1.sort_values('date', ascending=False)\n",
    "    \n",
    "    dic['dimension18'] = i\n",
    "    \n",
    "    dic['hits'] = df1.hits.mean()\n",
    "    dic['avgSessionDuration'] = df1.avgSessionDuration.mean()\n",
    "    dic['pageviews'] = df1.pageviews.mean()\n",
    "    dic['uniquePageviews'] = df1.uniquePageviews.mean()\n",
    "    \n",
    "    dic['churned'] = df1.churned.values[0]\n",
    "    dic['sessions'] = df1.sessions.sum()\n",
    "    \n",
    "    dic['desktop'] = df1.desktop.sum()\n",
    "    dic['mobile'] = df1.mobile.sum()\n",
    "    dic['tablet'] = df1.tablet.sum()\n",
    "    \n",
    "    l.append(dic)\n",
    "    \n",
    "df_users = pd.DataFrame(l)"
   ]
  },
  {
   "cell_type": "code",
   "execution_count": 62,
   "id": "17d6dd6d",
   "metadata": {},
   "outputs": [
    {
     "data": {
      "text/html": [
       "<div>\n",
       "<style scoped>\n",
       "    .dataframe tbody tr th:only-of-type {\n",
       "        vertical-align: middle;\n",
       "    }\n",
       "\n",
       "    .dataframe tbody tr th {\n",
       "        vertical-align: top;\n",
       "    }\n",
       "\n",
       "    .dataframe thead th {\n",
       "        text-align: right;\n",
       "    }\n",
       "</style>\n",
       "<table border=\"1\" class=\"dataframe\">\n",
       "  <thead>\n",
       "    <tr style=\"text-align: right;\">\n",
       "      <th></th>\n",
       "      <th>hits</th>\n",
       "      <th>avgSessionDuration</th>\n",
       "      <th>pageviews</th>\n",
       "      <th>uniquePageviews</th>\n",
       "      <th>churned</th>\n",
       "      <th>sessions</th>\n",
       "      <th>desktop</th>\n",
       "      <th>mobile</th>\n",
       "      <th>tablet</th>\n",
       "    </tr>\n",
       "  </thead>\n",
       "  <tbody>\n",
       "    <tr>\n",
       "      <th>count</th>\n",
       "      <td>574.000000</td>\n",
       "      <td>574.000000</td>\n",
       "      <td>574.00000</td>\n",
       "      <td>574.000000</td>\n",
       "      <td>574.000000</td>\n",
       "      <td>574.000000</td>\n",
       "      <td>574.000000</td>\n",
       "      <td>574.000000</td>\n",
       "      <td>574.000000</td>\n",
       "    </tr>\n",
       "    <tr>\n",
       "      <th>mean</th>\n",
       "      <td>16.835876</td>\n",
       "      <td>159.655886</td>\n",
       "      <td>3.71231</td>\n",
       "      <td>2.447201</td>\n",
       "      <td>0.991289</td>\n",
       "      <td>5.567944</td>\n",
       "      <td>3.482578</td>\n",
       "      <td>2.024390</td>\n",
       "      <td>0.060976</td>\n",
       "    </tr>\n",
       "    <tr>\n",
       "      <th>std</th>\n",
       "      <td>12.109312</td>\n",
       "      <td>195.455491</td>\n",
       "      <td>2.48643</td>\n",
       "      <td>1.429955</td>\n",
       "      <td>0.093005</td>\n",
       "      <td>11.432238</td>\n",
       "      <td>11.019681</td>\n",
       "      <td>2.549906</td>\n",
       "      <td>0.427799</td>\n",
       "    </tr>\n",
       "    <tr>\n",
       "      <th>min</th>\n",
       "      <td>1.000000</td>\n",
       "      <td>0.000000</td>\n",
       "      <td>0.00000</td>\n",
       "      <td>0.000000</td>\n",
       "      <td>0.000000</td>\n",
       "      <td>2.000000</td>\n",
       "      <td>0.000000</td>\n",
       "      <td>0.000000</td>\n",
       "      <td>0.000000</td>\n",
       "    </tr>\n",
       "    <tr>\n",
       "      <th>25%</th>\n",
       "      <td>6.000000</td>\n",
       "      <td>25.625000</td>\n",
       "      <td>1.50000</td>\n",
       "      <td>1.000000</td>\n",
       "      <td>1.000000</td>\n",
       "      <td>2.000000</td>\n",
       "      <td>0.000000</td>\n",
       "      <td>0.000000</td>\n",
       "      <td>0.000000</td>\n",
       "    </tr>\n",
       "    <tr>\n",
       "      <th>50%</th>\n",
       "      <td>15.416667</td>\n",
       "      <td>89.750000</td>\n",
       "      <td>3.38750</td>\n",
       "      <td>2.333333</td>\n",
       "      <td>1.000000</td>\n",
       "      <td>3.000000</td>\n",
       "      <td>2.000000</td>\n",
       "      <td>2.000000</td>\n",
       "      <td>0.000000</td>\n",
       "    </tr>\n",
       "    <tr>\n",
       "      <th>75%</th>\n",
       "      <td>23.000000</td>\n",
       "      <td>222.166667</td>\n",
       "      <td>5.00000</td>\n",
       "      <td>3.290179</td>\n",
       "      <td>1.000000</td>\n",
       "      <td>6.000000</td>\n",
       "      <td>3.000000</td>\n",
       "      <td>3.000000</td>\n",
       "      <td>0.000000</td>\n",
       "    </tr>\n",
       "    <tr>\n",
       "      <th>max</th>\n",
       "      <td>74.500000</td>\n",
       "      <td>1079.000000</td>\n",
       "      <td>14.00000</td>\n",
       "      <td>8.250000</td>\n",
       "      <td>1.000000</td>\n",
       "      <td>155.000000</td>\n",
       "      <td>152.000000</td>\n",
       "      <td>21.000000</td>\n",
       "      <td>7.000000</td>\n",
       "    </tr>\n",
       "  </tbody>\n",
       "</table>\n",
       "</div>"
      ],
      "text/plain": [
       "             hits  avgSessionDuration  pageviews  uniquePageviews     churned  \\\n",
       "count  574.000000          574.000000  574.00000       574.000000  574.000000   \n",
       "mean    16.835876          159.655886    3.71231         2.447201    0.991289   \n",
       "std     12.109312          195.455491    2.48643         1.429955    0.093005   \n",
       "min      1.000000            0.000000    0.00000         0.000000    0.000000   \n",
       "25%      6.000000           25.625000    1.50000         1.000000    1.000000   \n",
       "50%     15.416667           89.750000    3.38750         2.333333    1.000000   \n",
       "75%     23.000000          222.166667    5.00000         3.290179    1.000000   \n",
       "max     74.500000         1079.000000   14.00000         8.250000    1.000000   \n",
       "\n",
       "         sessions     desktop      mobile      tablet  \n",
       "count  574.000000  574.000000  574.000000  574.000000  \n",
       "mean     5.567944    3.482578    2.024390    0.060976  \n",
       "std     11.432238   11.019681    2.549906    0.427799  \n",
       "min      2.000000    0.000000    0.000000    0.000000  \n",
       "25%      2.000000    0.000000    0.000000    0.000000  \n",
       "50%      3.000000    2.000000    2.000000    0.000000  \n",
       "75%      6.000000    3.000000    3.000000    0.000000  \n",
       "max    155.000000  152.000000   21.000000    7.000000  "
      ]
     },
     "execution_count": 62,
     "metadata": {},
     "output_type": "execute_result"
    }
   ],
   "source": [
    "# Highly unbalanced data, especially in terms of target: churned\n",
    "df_users.describe()"
   ]
  },
  {
   "cell_type": "code",
   "execution_count": 65,
   "id": "0f75b9fd",
   "metadata": {},
   "outputs": [
    {
     "data": {
      "image/png": "[encoded data removed]",
      "text/plain": [
       "<Figure size 1152x432 with 2 Axes>"
      ]
     },
     "metadata": {
      "needs_background": "light"
     },
     "output_type": "display_data"
    }
   ],
   "source": [
    "import seaborn as sns\n",
    "\n",
    "# Increase the size of the heatmap.\n",
    "plt.figure(figsize=(16, 6))\n",
    "\n",
    "# Set the range of values to be displayed on the colormap from -1 to 1, and set the annotation to True to display the correlation values on the heatmap.\n",
    "heatmap = sns.heatmap(df_users.corr(), vmin=-1, vmax=1, annot=True)\n",
    "\n",
    "heatmap.set_title('Correlation Heatmap', fontdict={'fontsize':12}, pad=12);"
   ]
  },
  {
   "cell_type": "markdown",
   "id": "48af3a5c",
   "metadata": {},
   "source": [
    "## Sessions and Hits"
   ]
  },
  {
   "cell_type": "code",
   "execution_count": 66,
   "id": "322f37ba",
   "metadata": {},
   "outputs": [
    {
     "name": "stderr",
     "output_type": "stream",
     "text": [
      "100%|████████████████████████████████████████████████████████████████████████████████| 100/100 [01:05<00:00,  1.53it/s]\n"
     ]
    }
   ],
   "source": [
    "# INFORMATION ON A SESSION LEVEL\n",
    "# PURPOSFULLY LIMTIED TO :150\n",
    "response = report_clientid(analytics, users[\"clientId\"][:100])"
   ]
  },
  {
   "cell_type": "code",
   "execution_count": 67,
   "id": "58412d80",
   "metadata": {},
   "outputs": [
    {
     "data": {
      "text/plain": [
       "100"
      ]
     },
     "execution_count": 67,
     "metadata": {},
     "output_type": "execute_result"
    }
   ],
   "source": [
    "len(response)"
   ]
  },
  {
   "cell_type": "code",
   "execution_count": 68,
   "id": "0864c7b6",
   "metadata": {},
   "outputs": [],
   "source": [
    "sessions = report_dataframe_sessions(response)\n",
    "hits = report_dataframe_activities(response)"
   ]
  },
  {
   "cell_type": "code",
   "execution_count": 69,
   "id": "cd9dc821",
   "metadata": {},
   "outputs": [],
   "source": [
    "users = users.drop(columns=[\"userType\", \"daysSinceLastSession\", \"date\", \"clientId\"])"
   ]
  },
  {
   "cell_type": "code",
   "execution_count": 70,
   "id": "d65453b4",
   "metadata": {},
   "outputs": [],
   "source": [
    "hits.update(hits.loc[hits['activityType'] == 'EVENT']['event'].apply(lambda x : x[\"eventCategory\"] + \"_\" + x[\"eventAction\"]))"
   ]
  },
  {
   "cell_type": "code",
   "execution_count": 71,
   "id": "ba0b7699",
   "metadata": {},
   "outputs": [],
   "source": [
    "hits = hits.fillna(0)\n",
    "hits = hits.loc[~(hits['user_id']==0)]\n",
    "\n",
    "categorical_cols = ['channelGrouping'] \n",
    "df_h = pd.get_dummies(hits, columns = categorical_cols)\n"
   ]
  },
  {
   "cell_type": "markdown",
   "id": "9d5af65f",
   "metadata": {},
   "source": [
    "## Merge dfs"
   ]
  },
  {
   "cell_type": "code",
   "execution_count": 140,
   "id": "494a0877",
   "metadata": {},
   "outputs": [],
   "source": [
    "result = pd.merge(hits, df_users, left_on=\"user_id\", right_on=\"dimension18\").drop(columns=['dimension18'])\n",
    "result = pd.merge(result, sessions, left_on=\"user_id\", right_on=\"user_id\")\n"
   ]
  },
  {
   "cell_type": "code",
   "execution_count": 141,
   "id": "4e1038f7",
   "metadata": {},
   "outputs": [
    {
     "data": {
      "text/plain": [
       "(424203, 57)"
      ]
     },
     "execution_count": 141,
     "metadata": {},
     "output_type": "execute_result"
    }
   ],
   "source": [
    "result.shape"
   ]
  },
  {
   "cell_type": "markdown",
   "id": "5e74eb28",
   "metadata": {},
   "source": [
    "# Churnrate"
   ]
  },
  {
   "cell_type": "code",
   "execution_count": 142,
   "id": "b9242314",
   "metadata": {},
   "outputs": [],
   "source": [
    "tb_deleted = ['dataSource', 4, 34, 47, 48, 36, 33, 45, 7, 19, 20, 21, 32, 37, 41, 60, 62, 63, 64, 65, 66, 68, 35, 'hostname', 'landingPagePath', 46, 67, 8, 10, 42, 17, 44, 'deviceCategory', 'platform']\n",
    "cols = list(set(result.columns) & set(tb_deleted))\n",
    "\n",
    "result = result.drop(columns=cols)\n",
    "result = result.rename(columns={23: 'user_professionalspecialtycode', 25: 'user_professionaldesidnationcode', 22: 'registrationdate'})\n"
   ]
  },
  {
   "cell_type": "code",
   "execution_count": 143,
   "id": "5fe45e50",
   "metadata": {},
   "outputs": [],
   "source": [
    "result = result.drop(columns= ['activityTime', 'source', 'medium', 'keyword', 'event', 'session_id', 'activityType', 'registrationdate', 'sessionId', 'pageview'])\n",
    "\n",
    "# granularity on a user level\n",
    "\n",
    "# include: user_professionalspecialtycode, user_professionaldesidnationcode\n",
    "# drop: 'activityTime', 'source', 'medium', 'keyword', 'event', 'session_id', 'activityType'\n"
   ]
  },
  {
   "cell_type": "code",
   "execution_count": 144,
   "id": "d7dcb67c",
   "metadata": {},
   "outputs": [],
   "source": [
    "\n",
    "result.loc[:, 'is_campaign'] = 1\n",
    "result.loc[result.campaign == '(not set)', 'is_campaign'] = 0\n",
    "result = result.drop('campaign', axis=1)\n",
    "\n",
    "\n",
    "\n",
    "for i in ['user_professionalspecialtycode', 'user_professionaldesidnationcode', 'channelGrouping']:\n",
    "\n",
    "    one_hot = pd.get_dummies(result[i])\n",
    "    result = result.drop(i, axis = 1)\n",
    "    result = result.join(one_hot)"
   ]
  },
  {
   "cell_type": "code",
   "execution_count": 145,
   "id": "f1b4118a",
   "metadata": {},
   "outputs": [],
   "source": [
    "result = result[['user_id', 'is_campaign', 'AI', 'FMG', 'IM', 'OS', 'EE', 'GD', 'NR', '(Other)',\n",
    "       'Direct', 'Email', 'Referral']].groupby(['user_id']).agg({\n",
    "    'is_campaign' : 'max', \n",
    "    'AI' : 'first', \n",
    "    'FMG' : 'first', \n",
    "    'IM' : 'first', \n",
    "    'OS' : 'first' , \n",
    "    'EE' : 'first', \n",
    "    'GD' : 'first', \n",
    "    'NR' : 'first', \n",
    "    '(Other)' : 'mean',\n",
    "    'Direct' : 'mean', \n",
    "    'Email' : 'mean', \n",
    "    'Referral' : 'mean'\n",
    "})"
   ]
  },
  {
   "cell_type": "code",
   "execution_count": 146,
   "id": "40b4ddde",
   "metadata": {},
   "outputs": [],
   "source": [
    "result_ = pd.merge(result, df_users, left_index=True, right_on=\"dimension18\").drop(columns=['dimension18'])\n"
   ]
  },
  {
   "cell_type": "code",
   "execution_count": 1,
   "id": "0123b2d5",
   "metadata": {},
   "outputs": [
    {
     "ename": "NameError",
     "evalue": "name 'result_' is not defined",
     "output_type": "error",
     "traceback": [
      "\u001b[1;31m---------------------------------------------------------------------------\u001b[0m",
      "\u001b[1;31mNameError\u001b[0m                                 Traceback (most recent call last)",
      "\u001b[1;32m<ipython-input-1-be0699b69720>\u001b[0m in \u001b[0;36m<module>\u001b[1;34m\u001b[0m\n\u001b[1;32m----> 1\u001b[1;33m \u001b[0mresult_\u001b[0m\u001b[1;33m\u001b[0m\u001b[1;33m\u001b[0m\u001b[0m\n\u001b[0m",
      "\u001b[1;31mNameError\u001b[0m: name 'result_' is not defined"
     ]
    }
   ],
   "source": [
    "result_"
   ]
  },
  {
   "cell_type": "code",
   "execution_count": null,
   "id": "bebc7326",
   "metadata": {},
   "outputs": [],
   "source": [
    "import xgboost\n",
    "\n",
    "# evaluate xgboost random forest algorithm for classification\n",
    "from numpy import mean\n",
    "from numpy import std\n",
    "from sklearn.datasets import make_classification\n",
    "from sklearn.model_selection import cross_val_score\n",
    "from sklearn.model_selection import RepeatedStratifiedKFold\n",
    "from xgboost import XGBRFClassifier\n",
    "\n",
    "from sklearn.preprocessing import OneHotEncoder\n",
    "\n",
    "enc = OneHotEncoder(handle_unknown='ignore')\n",
    "X = result_.drop(['churned'], axis=1)\n",
    "enc.fit(X)\n",
    "X = enc.transform(X).toarray()\n",
    "\n",
    "y = result_['churned']\n",
    "# define the model\n",
    "model = XGBRFClassifier(n_estimators=100, subsample=0.9, colsample_bynode=0.2)\n",
    "# define the model evaluation procedure\n",
    "cv = RepeatedStratifiedKFold(n_splits=10, n_repeats=3, random_state=1)\n",
    "# evaluate the model and collect the scores\n",
    "n_scores = cross_val_score(model, X, y, scoring='accuracy', cv=cv, n_jobs=-1)\n",
    "# report performance\n",
    "print('Mean Accuracy: %.3f (%.3f)' % (mean(n_scores), std(n_scores)))"
   ]
  },
  {
   "cell_type": "markdown",
   "id": "7084737b",
   "metadata": {},
   "source": [
    "# Clustering"
   ]
  },
  {
   "cell_type": "code",
   "execution_count": null,
   "id": "a3212984",
   "metadata": {},
   "outputs": [],
   "source": [
    "from sklearn.cluster import KMeans\n",
    "\n",
    "clusters = 3\n",
    "model = KMeans(init = 'k-means++', \n",
    "               n_clusters = clusters, \n",
    "               n_init = 12)\n",
    "model.fit(X)\n",
    "\n",
    "labels = model.labels_\n",
    "print(labels[:100])"
   ]
  },
  {
   "cell_type": "code",
   "execution_count": null,
   "id": "3b063ca9",
   "metadata": {},
   "outputs": [],
   "source": [
    "df['cluster_num'] = labels\n",
    "df.head()"
   ]
  },
  {
   "cell_type": "code",
   "execution_count": null,
   "id": "565cac43",
   "metadata": {},
   "outputs": [],
   "source": [
    "import matplotlib.pyplot as plt \n",
    "from mpl_toolkits.mplot3d import Axes3D # 3d plot\n",
    "\n",
    "\n",
    "fig = plt.figure(1)\n",
    "plt.clf()\n",
    "ax = Axes3D(fig, \n",
    "            rect = [0, 0, .95, 1], \n",
    "            elev = 48, \n",
    "            azim = 134)\n",
    "\n",
    "plt.cla()\n",
    "ax.scatter(result_['sessions'], result_['pageviews'], result_['hits'], \n",
    "           c = df['cluster_num'], \n",
    "           s = 200, \n",
    "           cmap = 'spring', \n",
    "           alpha = 0.5, \n",
    "           edgecolor = 'darkgrey')\n",
    "\n",
    "ax.set_ylabel('pageviews', \n",
    "              fontsize = 16)\n",
    "ax.set_zlabel('hits', \n",
    "              fontsize = 16)\n",
    "\n",
    "plt.savefig('3d_plot.png')\n",
    "plt.show()"
   ]
  }
 ],
 "metadata": {
  "kernelspec": {
   "display_name": "Python 3",
   "language": "python",
   "name": "python3"
  },
  "language_info": {
   "codemirror_mode": {
    "name": "ipython",
    "version": 3
   },
   "file_extension": ".py",
   "mimetype": "text/x-python",
   "name": "python",
   "nbconvert_exporter": "python",
   "pygments_lexer": "ipython3",
   "version": "3.8.8"
  }
 },
 "nbformat": 4,
 "nbformat_minor": 5
}
